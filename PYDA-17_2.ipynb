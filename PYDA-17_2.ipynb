{
 "cells": [
  {
   "cell_type": "code",
   "execution_count": 2,
   "metadata": {},
   "outputs": [
    {
     "name": "stdout",
     "output_type": "stream",
     "text": [
      "12\n"
     ]
    }
   ],
   "source": [
    "word = 'test123456'\n",
    "length = len(word)\n",
    "if length % 2 == 0:\n",
    "    print (word[int(length/2 - 1):(int(length/2) + 1)])\n",
    "else:\n",
    "    print (word[int(length/2)])\n"
   ]
  },
  {
   "cell_type": "code",
   "execution_count": 4,
   "metadata": {},
   "outputs": [
    {
     "name": "stdout",
     "output_type": "stream",
     "text": [
      "1\n",
      "2\n",
      "3\n",
      "0\n",
      "6\n"
     ]
    }
   ],
   "source": [
    "a = int(input())\n",
    "sum = 0\n",
    "while a!= 0:\n",
    "    sum = sum + a\n",
    "    a = int(input())    \n",
    "print(sum)\n"
   ]
  },
  {
   "cell_type": "code",
   "execution_count": 6,
   "metadata": {},
   "outputs": [
    {
     "name": "stdout",
     "output_type": "stream",
     "text": [
      "Идеальные пары:\n",
      "Alex  и  Emma\n",
      "Arthur  и  Kate\n",
      "John  и  Kira\n",
      "Peter  и  Liza\n",
      "Richard  и  Trisha\n"
     ]
    }
   ],
   "source": [
    "boys = ['Peter', 'Alex', 'John', 'Arthur', 'Richard']\n",
    "girls = ['Kate', 'Liza', 'Kira', 'Emma', 'Trisha']\n",
    "a = 0\n",
    "sorted_boys = sorted(boys)\n",
    "sorted_girls = sorted(girls)\n",
    "if len(boys) == len (girls):\n",
    "    print('Идеальные пары:')\n",
    "    for i in boys:\n",
    "        print(sorted_boys[a],' и ',sorted_girls[a])\n",
    "        a = a + 1 # почему если я здесь поставлю a += 1 программа будет работать неверно?\n",
    "else:\n",
    "    print('Внимание, кто-то может остаться без пары!')"
   ]
  },
  {
   "cell_type": "code",
   "execution_count": 7,
   "metadata": {},
   "outputs": [
    {
     "name": "stdout",
     "output_type": "stream",
     "text": [
      "Средняя температура в странах:\n",
      "Thailand - 23.9 C\n",
      "Germany - 13.8 C\n",
      "Russia - 3.7 C\n",
      "Poland - 12.0 C\n"
     ]
    }
   ],
   "source": [
    "countries_temperature = [\n",
    "['Thailand', [75.2, 77, 78.8, 73.4, 68, 75.2, 77]],\n",
    "['Germany', [57.2, 55.4, 59, 59, 53.6]],\n",
    "['Russia', [35.6, 37.4, 39.2, 41, 42.8, 39.2, 35.6]],\n",
    "['Poland', [50, 50, 53.6, 57.2, 55.4, 55.4]]\n",
    "]\n",
    "print('Средняя температура в странах:')\n",
    "t = 0 # Здесь накапливается температура\n",
    "ii = 0 #номер страны из списка, по которой смотрим температуры\n",
    "n = len (countries_temperature[ii][1]) #кол-во температур в стране ii\n",
    "m = len (countries_temperature) # кол-во стран\n",
    "while m > 0:\n",
    "    for i in countries_temperature[ii][1]:\n",
    "        t = t + float (i)\n",
    "        n = n - 1\n",
    "        if n == 0:\n",
    "            print(countries_temperature[ii][0], end = ' - ')\n",
    "            t = (t - (32 * len(countries_temperature[ii][1]))) / 1.8 / len(countries_temperature[ii][1]) #Пытаюсь перевести температуру\n",
    "            ii = ii + 1\n",
    "            print(round(t,1),'C')\n",
    "            t = 0\n",
    "            if ii < 4:\n",
    "                n = len (countries_temperature[ii][1])\n",
    "            else:\n",
    "                break\n",
    "        \n",
    "    m = m - 1"
   ]
  },
  {
   "cell_type": "code",
   "execution_count": 8,
   "metadata": {},
   "outputs": [
    {
     "name": "stdout",
     "output_type": "stream",
     "text": [
      "Среднее количество просмотров на уникального пользователя: 145.33\n"
     ]
    }
   ],
   "source": [
    "stream = [\n",
    "    '2018-01-01,user100,150',\n",
    "    '2018-01-07,user99,205',\n",
    "    '2018-03-29,user1001,81'\n",
    "]\n",
    "a = []\n",
    "b = []\n",
    "sum = 0\n",
    "for session in stream:\n",
    "    daily_log = session.split(',')\n",
    "    sum = sum + int(daily_log[2])\n",
    "    if daily_log[1] in a:\n",
    "        continue\n",
    "    else:\n",
    "        a.append(daily_log[1])    \n",
    "    user_amount = len(a)\n",
    "avg = sum / user_amount\n",
    "print(f\"Среднее количество просмотров на уникального пользователя: {avg:.2f}\")\n",
    "\n"
   ]
  },
  {
   "cell_type": "code",
   "execution_count": 1,
   "metadata": {},
   "outputs": [
    {
     "name": "stdout",
     "output_type": "stream",
     "text": [
      "Введите числа:1\n",
      "Введите числа:2\n",
      "Введите числа:3\n",
      "Введите числа:й\n",
      "Введите числа:q\n"
     ]
    }
   ],
   "source": [
    "while True:\n",
    "    user_input = input('Введите числа:')\n",
    "    if user_input == 'q':\n",
    "        break"
   ]
  },
  {
   "cell_type": "code",
   "execution_count": null,
   "metadata": {},
   "outputs": [],
   "source": []
  },
  {
   "cell_type": "code",
   "execution_count": null,
   "metadata": {},
   "outputs": [],
   "source": []
  }
 ],
 "metadata": {
  "kernelspec": {
   "display_name": "Python 3",
   "language": "python",
   "name": "python3"
  },
  "language_info": {
   "codemirror_mode": {
    "name": "ipython",
    "version": 3
   },
   "file_extension": ".py",
   "mimetype": "text/x-python",
   "name": "python",
   "nbconvert_exporter": "python",
   "pygments_lexer": "ipython3",
   "version": "3.8.3"
  }
 },
 "nbformat": 4,
 "nbformat_minor": 4
}
