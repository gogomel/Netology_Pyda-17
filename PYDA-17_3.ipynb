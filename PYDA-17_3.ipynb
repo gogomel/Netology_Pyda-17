{
 "cells": [
  {
   "cell_type": "code",
   "execution_count": 55,
   "metadata": {},
   "outputs": [
    {
     "name": "stdout",
     "output_type": "stream",
     "text": [
      "{98, 35, 213, 54, 119, 15}\n"
     ]
    }
   ],
   "source": [
    "ids = {'user1': [213, 213, 213, 15, 213], \n",
    "       'user2': [54, 54, 119, 119, 119], \n",
    "       'user3': [213, 98, 98, 35]}\n",
    "new_dict = set()\n",
    "for marker in ids.values():\n",
    "    a = set(marker)\n",
    "    new_dict = new_dict.union(a)\n",
    "print(new_dict)\n",
    "    \n"
   ]
  },
  {
   "cell_type": "code",
   "execution_count": 76,
   "metadata": {},
   "outputs": [
    {
     "name": "stdout",
     "output_type": "stream",
     "text": [
      "Поисковых запросов, содержащих 2 слов(а): 42.86\n",
      "Поисковых запросов, содержащих 2 слов(а): 57.14\n"
     ]
    }
   ],
   "source": [
    "queries = [\n",
    "    'смотреть сериалы онлайн',\n",
    "    'новости спорта',\n",
    "    'афиша кино',\n",
    "    'курс доллара',\n",
    "    'сериалы этим летом',\n",
    "    'курс по питону',\n",
    "    'сериалы про спорт',\n",
    "]\n",
    "sum_req = 0\n",
    "req_2 = 0\n",
    "req_3 = 0\n",
    "for request in queries:\n",
    "    request = request.split(' ')\n",
    "    if len(request) == 2:\n",
    "        req_2 += 1\n",
    "    elif len(request) == 3:\n",
    "        req_3 += 1\n",
    "sum_req = req_2 + req_3\n",
    "print(f\"Поисковых запросов, содержащих 2 слов(а): {req_2 * 100 / sum_req:.2f}\")\n",
    "print(f\"Поисковых запросов, содержащих 2 слов(а): {req_3 * 100 / sum_req:.2f}\")"
   ]
  },
  {
   "cell_type": "code",
   "execution_count": 172,
   "metadata": {},
   "outputs": [
    {
     "name": "stdout",
     "output_type": "stream",
     "text": [
      "{'vk': {'revenue': 103, 'cost': 98, 'ROI': 5.102040816326525}}\n",
      "{'yandex': {'revenue': 179, 'cost': 153, 'ROI': 16.99346405228759}}\n",
      "{'facebook': {'revenue': 103, 'cost': 110, 'ROI': -6.36363636363636}}\n",
      "{'adwords': {'revenue': 35, 'cost': 34, 'ROI': 2.941176470588225}}\n",
      "{'twitter': {'revenue': 11, 'cost': 24, 'ROI': -54.16666666666667}}\n"
     ]
    }
   ],
   "source": [
    "results = {\n",
    "    'vk': {'revenue': 103, 'cost': 98},\n",
    "    'yandex': {'revenue': 179, 'cost': 153},\n",
    "    'facebook': {'revenue': 103, 'cost': 110},\n",
    "    'adwords': {'revenue': 35, 'cost': 34},\n",
    "    'twitter': {'revenue': 11, 'cost': 24},\n",
    "}\n",
    "result = {}\n",
    "for key, value in results.items():\n",
    "    ROI = (value['revenue'] / value['cost'] - 1) * 100\n",
    "    value.setdefault('ROI', ROI)\n",
    "    result = {key: value}\n",
    "    print(result)   "
   ]
  },
  {
   "cell_type": "code",
   "execution_count": 179,
   "metadata": {},
   "outputs": [
    {
     "name": "stdout",
     "output_type": "stream",
     "text": [
      "Максимальный объем продаж на рекламном канале: 120\n"
     ]
    }
   ],
   "source": [
    "stats = {'facebook': 55, 'yandex': 115, 'vk': 120, 'google': 99, 'email': 42, 'ok': 98}\n",
    "value_1 = 0\n",
    "for key, value in stats.items():\n",
    "    if value > value_1:\n",
    "        value_1 = value\n",
    "print(f\"Максимальный объем продаж на рекламном канале: {value_1}\")"
   ]
  },
  {
   "cell_type": "code",
   "execution_count": null,
   "metadata": {},
   "outputs": [],
   "source": []
  }
 ],
 "metadata": {
  "kernelspec": {
   "display_name": "Python 3",
   "language": "python",
   "name": "python3"
  },
  "language_info": {
   "codemirror_mode": {
    "name": "ipython",
    "version": 3
   },
   "file_extension": ".py",
   "mimetype": "text/x-python",
   "name": "python",
   "nbconvert_exporter": "python",
   "pygments_lexer": "ipython3",
   "version": "3.8.3"
  }
 },
 "nbformat": 4,
 "nbformat_minor": 4
}
