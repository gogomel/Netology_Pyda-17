{
 "cells": [
  {
   "cell_type": "code",
   "execution_count": 4,
   "metadata": {},
   "outputs": [
    {
     "name": "stdout",
     "output_type": "stream",
     "text": [
      "Фраза 1 длиннее фразы 2\n"
     ]
    }
   ],
   "source": [
    "phrase_1 ='абвабв'\n",
    "phrase_2 ='фывв'\n",
    "if len(phrase_1)>len(phrase_2):\n",
    "    print('Фраза 1 длиннее фразы 2')\n",
    "elif len(phrase_1)==len(phrase_2):\n",
    "    print('Фразы равной длины')\n",
    "else:\n",
    "    print('Фраза 2 длиннее фразы 1')"
   ]
  },
  {
   "cell_type": "code",
   "execution_count": 5,
   "metadata": {},
   "outputs": [
    {
     "name": "stdout",
     "output_type": "stream",
     "text": [
      "Год високосный\n"
     ]
    }
   ],
   "source": [
    "year = 2004\n",
    "if year % 400 == 0:\n",
    "    print('Год високосный')\n",
    "elif year % 4 == 0 and year % 100 != 0:\n",
    "    print('Год високосный')\n",
    "else:\n",
    "    print('Обычный год')"
   ]
  },
  {
   "cell_type": "code",
   "execution_count": 14,
   "metadata": {},
   "outputs": [
    {
     "name": "stdout",
     "output_type": "stream",
     "text": [
      "Введите день 25\n",
      "Введите месяц Январь\n",
      "Водолей\n"
     ]
    }
   ],
   "source": [
    "day = int(input('Введите день '))\n",
    "month = input('Введите месяц ')\n",
    "month = month.lower()\n",
    "if month == 'март' and day >=21 or month == 'апрель' and day <= 20:\n",
    "    print('Овен')\n",
    "elif month == 'апрель' and day >= 21 or month == 'май' and day <= 21:\n",
    "    print('Телец')\n",
    "elif month == 'май' and day >= 22 or month == 'июнь' and day <= 21:\n",
    "    print('Близнецы')\n",
    "elif month == 'июнь' and day >= 22 or month == 'июль' and day <= 22:\n",
    "    print('Рак')\n",
    "elif month == 'июль' and day >= 23 or month == 'август' and day <= 21:\n",
    "    print('Лев')\n",
    "elif month == 'август' and day >= 22 or month == 'сентябрь' and day <= 23:\n",
    "    print('Дева')\n",
    "elif month == 'сентябрь' and day >= 24 or month == 'октябрь' and day <= 23:\n",
    "    print('Весы')\n",
    "elif month == 'октябрь' and day >= 24 or month == 'ноябрь' and day <= 22:\n",
    "    print('Скорпион')\n",
    "elif month == 'ноябрь' and day >= 23 or month == 'декабрь' and day <= 22:\n",
    "    print('Стрелец')\n",
    "elif month == 'декабрь' and day >= 23 or month == 'январь' and day <= 20:\n",
    "    print('Козерог')\n",
    "elif month == 'январь' and day >= 21 or month == 'февраль' and day <= 19:\n",
    "    print('Водолей')\n",
    "elif month == 'февраль' and day >= 20 or month == 'март' and day <= 20:\n",
    "    print('Рыбы')"
   ]
  },
  {
   "cell_type": "code",
   "execution_count": 16,
   "metadata": {},
   "outputs": [
    {
     "name": "stdout",
     "output_type": "stream",
     "text": [
      "Стандартная коробка №3\n"
     ]
    }
   ],
   "source": [
    "width = 100\n",
    "length = 100\n",
    "height = 100\n",
    "if length > 200:\n",
    "    print ('Коробка для лыж')\n",
    "elif width < 15 and length < 15 and height < 15:\n",
    "    print ('Коробка №1')\n",
    "elif 15 < width < 50 or 15 < length < 50 or 15 < height < 50:\n",
    "    print ('Коробка №2')\n",
    "else:\n",
    "    print ('Стандартная коробка №3')"
   ]
  },
  {
   "cell_type": "code",
   "execution_count": 20,
   "metadata": {},
   "outputs": [
    {
     "name": "stdout",
     "output_type": "stream",
     "text": [
      "Счастливый билет\n"
     ]
    }
   ],
   "source": [
    "num = 121022\n",
    "num_1 = num // 100000\n",
    "num_2 = num % 100000 // 10000\n",
    "num_3 = num % 10000 // 1000\n",
    "num_4 = num % 1000 // 100\n",
    "num_5 = num % 100 // 10\n",
    "num_6 = num % 10\n",
    "if (num_1 + num_2 + num_3) == (num_4 + num_5 + num_6):\n",
    "    print('Счастливый билет')\n",
    "else:\n",
    "    print('Несчастливый билет')"
   ]
  },
  {
   "cell_type": "code",
   "execution_count": 23,
   "metadata": {},
   "outputs": [
    {
     "name": "stdout",
     "output_type": "stream",
     "text": [
      "Введите фигуру Треугольник\n",
      "Введите сторону А 2\n",
      "Введите сторону В 2\n",
      "Введите сторону С 3\n",
      "1.96875 3.5\n"
     ]
    }
   ],
   "source": [
    "fig = input('Введите фигуру ')\n",
    "if fig == 'Треугольник':\n",
    "    a = int(input('Введите сторону А '))\n",
    "    b = int(input('Введите сторону В '))\n",
    "    c = int(input('Введите сторону С '))\n",
    "    p = (a + b + c) / 2\n",
    "    S = (p * (p - a) * (p-b) * (p-c))*0.5\n",
    "    print(S)\n",
    "elif fig == 'Прямоугольник':\n",
    "    a = int(input('Введите сторону А '))\n",
    "    b = int(input('Введите сторону В '))\n",
    "    S = a * b\n",
    "    print(S)\n",
    "elif fig == 'Круг':\n",
    "    r = int(input('Введите радиус '))\n",
    "    S = 3.14 * r ** 2\n",
    "    print(S)"
   ]
  },
  {
   "cell_type": "code",
   "execution_count": null,
   "metadata": {},
   "outputs": [],
   "source": []
  }
 ],
 "metadata": {
  "kernelspec": {
   "display_name": "Python 3",
   "language": "python",
   "name": "python3"
  },
  "language_info": {
   "codemirror_mode": {
    "name": "ipython",
    "version": 3
   },
   "file_extension": ".py",
   "mimetype": "text/x-python",
   "name": "python",
   "nbconvert_exporter": "python",
   "pygments_lexer": "ipython3",
   "version": "3.8.3"
  }
 },
 "nbformat": 4,
 "nbformat_minor": 4
}
