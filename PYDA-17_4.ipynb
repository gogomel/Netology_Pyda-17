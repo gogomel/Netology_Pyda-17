{
 "cells": [
  {
   "cell_type": "code",
   "execution_count": 89,
   "metadata": {},
   "outputs": [],
   "source": [
    "documents = [\n",
    " {'type': 'passport', 'number': '2207 876234', 'name': 'Василий Гупкин'},\n",
    " {'type': 'invoice', 'number': '11-2', 'name': 'Геннадий Покемонов'},\n",
    " {'type': 'insurance', 'number': '10006', 'name': 'Аристарх Павлов'}\n",
    "]\n",
    "directories = {\n",
    " '1': ['2207 876234', '11-2'],\n",
    " '2': ['10006'],\n",
    " '3': [],\n",
    " '4': []    \n",
    "}  \n",
    "import copy                        "
   ]
  },
  {
   "cell_type": "code",
   "execution_count": 24,
   "metadata": {},
   "outputs": [],
   "source": [
    "def doc_owner():\n",
    "    while True:\n",
    "        command = input('Введите команду: ')\n",
    "        if command == 'q':\n",
    "            break\n",
    "        if command == 'p':\n",
    "            a = 0\n",
    "            doc_num = str(input('Введите номер документа: '))\n",
    "            for user_inf in documents:\n",
    "                for line_2 in user_inf.values():\n",
    "                    if doc_num == line_2:\n",
    "                        a = True\n",
    "                        user_name = user_inf['name']\n",
    "                        break\n",
    "        if a == True:\n",
    "            return(f\"Владелец документа: {user_name}\")\n",
    "        else:\n",
    "            return('Документ не найден в базе')\n",
    "        break"
   ]
  },
  {
   "cell_type": "code",
   "execution_count": 25,
   "metadata": {},
   "outputs": [],
   "source": [
    "def shelf_num():\n",
    "    while True:\n",
    "        a = 0\n",
    "        command = input('Введите команду: ')\n",
    "        if command == 'q':\n",
    "            break\n",
    "        if command == 's':\n",
    "            doc_num = str(input('Введите номер документа: '))\n",
    "            for num_shelf, orig_doc_num in directories.items():\n",
    "                if doc_num in orig_doc_num:\n",
    "                    a = True\n",
    "                    break\n",
    "        if a == True:\n",
    "            return(f\"Документ хранится на полке №: {num_shelf}\")\n",
    "        else:\n",
    "            return('Документ не найден в базе')\n",
    "        break"
   ]
  },
  {
   "cell_type": "code",
   "execution_count": 26,
   "metadata": {},
   "outputs": [],
   "source": [
    "def full_info():\n",
    "    while True:\n",
    "        i = 0\n",
    "        command = input('Введите команду: ')\n",
    "        if command == 'q':\n",
    "            break\n",
    "        if command == 'l':\n",
    "            for user_info in documents:\n",
    "                for num_shelf, shelf in directories.items():\n",
    "                    if user_info['number'] in shelf:\n",
    "                        print(f\"№: {user_info['number']}, тип: {user_info['type']}, владелец: {user_info['name']}, полка хранения: {num_shelf}\")\n",
    "                        i = i +1\n",
    "        if i == len(documents):\n",
    "            break"
   ]
  },
  {
   "cell_type": "code",
   "execution_count": 27,
   "metadata": {},
   "outputs": [],
   "source": [
    "def add_shelf(): #не понимаю как правильно выводить надо эти полки через запятую без списка\n",
    "    while True:\n",
    "        command = input('Введите команду: ')\n",
    "        test_directories = copy.copy(directories)\n",
    "        if command == 'q':\n",
    "            break\n",
    "        if command == 'ads':\n",
    "            temp_list = []\n",
    "            num_shelf = str(input('Введите номер полки: '))\n",
    "            if num_shelf in directories.keys():\n",
    "                for i in directories.keys():\n",
    "                    temp_list.append(i)  \n",
    "                return(f\"Такая полка уже существует. Текущий перечень полок: {temp_list}.\")\n",
    "            else:\n",
    "                directories.setdefault(num_shelf, [])\n",
    "                for i in directories.keys():\n",
    "                    temp_list.append(i) \n",
    "                return(f\"Полка добавлена. Текущий перечень полок: {temp_list}.\") "
   ]
  },
  {
   "cell_type": "code",
   "execution_count": 100,
   "metadata": {},
   "outputs": [],
   "source": [
    "def del_shelf(): #не понимаю как правильно выводить надо эти полки через запятую без списка\n",
    "    while True:\n",
    "        command = input('Введите команду: ')\n",
    "        if command == 'q':\n",
    "            break\n",
    "        if command == 'ds':\n",
    "            temp_list = []\n",
    "            directories_copy = copy.copy(directories)\n",
    "            num_shelf = str(input('Введите номер полки: '))\n",
    "            if num_shelf in directories and directories[num_shelf] == []:\n",
    "                del(directories[num_shelf])\n",
    "                for i in directories.keys():\n",
    "                    temp_list.append(i)\n",
    "                return(f\"Полка удалена. Текущий перечень полок: {temp_list}.\")\n",
    "            elif num_shelf in directories and directories[num_shelf] != []:\n",
    "                for i in directories.keys():\n",
    "                    temp_list.append(i)\n",
    "                return(f\"На полке есть документы, удалите их перед удалением полки. Текущий перечень полок: {temp_list}\")\n",
    "            elif num_shelf not in directories:\n",
    "                for i in directories.keys():\n",
    "                    temp_list.append(i)\n",
    "                return(f\"Такой полки не существует. Текущий перечень полок: {temp_list}\")\n",
    "                "
   ]
  },
  {
   "cell_type": "code",
   "execution_count": 101,
   "metadata": {},
   "outputs": [
    {
     "name": "stdout",
     "output_type": "stream",
     "text": [
      "Введите команду: 6\n",
      "Введите команду: ds\n",
      "Введите номер полки: 5\n"
     ]
    },
    {
     "data": {
      "text/plain": [
       "\"Такой полки не существует. Текущий перечень полок: ['1', '2']\""
      ]
     },
     "execution_count": 101,
     "metadata": {},
     "output_type": "execute_result"
    }
   ],
   "source": [
    "del_shelf()"
   ]
  },
  {
   "cell_type": "code",
   "execution_count": null,
   "metadata": {},
   "outputs": [],
   "source": [
    "def main():\n",
    "    while True:\n",
    "        command = input('Введите команду: ')\n",
    "        "
   ]
  },
  {
   "cell_type": "code",
   "execution_count": null,
   "metadata": {},
   "outputs": [],
   "source": []
  }
 ],
 "metadata": {
  "kernelspec": {
   "display_name": "Python 3",
   "language": "python",
   "name": "python3"
  },
  "language_info": {
   "codemirror_mode": {
    "name": "ipython",
    "version": 3
   },
   "file_extension": ".py",
   "mimetype": "text/x-python",
   "name": "python",
   "nbconvert_exporter": "python",
   "pygments_lexer": "ipython3",
   "version": "3.8.3"
  }
 },
 "nbformat": 4,
 "nbformat_minor": 4
}
